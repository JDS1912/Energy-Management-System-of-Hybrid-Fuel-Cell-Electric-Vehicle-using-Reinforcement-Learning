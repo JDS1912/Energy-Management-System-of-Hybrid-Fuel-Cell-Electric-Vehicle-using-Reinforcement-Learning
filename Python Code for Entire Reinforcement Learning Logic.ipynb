{
 "cells": [
  {
   "cell_type": "code",
   "execution_count": null,
   "id": "903562d3",
   "metadata": {},
   "outputs": [],
   "source": [
    "import numpy as np\n",
    "import pandas as pd"
   ]
  },
  {
   "cell_type": "code",
   "execution_count": null,
   "id": "4f7c8262",
   "metadata": {},
   "outputs": [],
   "source": [
    "class RL(object):\n",
    " def __init__(self, action_space, learning_rate=0.01, reward_decay=0.9, \n",
    "e_greedy=0.9):\n",
    " self.actions = action_space # a list\n",
    " self.lr = learning_rate\n",
    " self.gamma = reward_decay\n",
    " self.epsilon = e_greedy\n",
    " self.q_table = pd.DataFrame(columns=self.actions)"
   ]
  },
  {
   "cell_type": "code",
   "execution_count": null,
   "id": "99757435",
   "metadata": {},
   "outputs": [],
   "source": [
    "def check_state_exist(self, state):\n",
    " if state not in self.q_table.index:\n",
    " # append new state to q table\n",
    " self.q_table = self.q_table.append(\n",
    " pd.Series(\n",
    " [0]*len(self.actions),\n",
    " index=self.q_table.columns,\n",
    " name=state,\n",
    " )\n",
    " )"
   ]
  },
  {
   "cell_type": "code",
   "execution_count": null,
   "id": "7f4e83fb",
   "metadata": {},
   "outputs": [],
   "source": [
    "def choose_action(self, observation):\n",
    " self.check_state_exist(observation)\n",
    " # action selection\n",
    " if np.random.rand() < self.epsilon:\n",
    " # choose best action\n",
    "state_action = self.q_table.ix[observation, :]\n",
    " state_action = state_action.reindex(np.random.permutation(state_\n",
    "action.index)) # some actions have the same value\n",
    " action = state_action.argmax()\n",
    " else:\n",
    " # choose random action\n",
    " action = np.random.choice(self.actions)\n",
    " return action\n",
    "\n",
    "def learn(self, *args):\n",
    " Pass"
   ]
  },
  {
   "cell_type": "code",
   "execution_count": null,
   "id": "1dac57b6",
   "metadata": {},
   "outputs": [],
   "source": [
    "# off-policy\n",
    "class QLearningTable(RL):\n",
    " def __init__(self, actions, learning_rate=0.01, reward_decay=0.9, e_\n",
    "greedy=0.9):\n",
    " super(QLearningTable, self).__init__(actions, learning_rate, reward_\n",
    "decay, e_greedy)\n",
    "\n",
    "def learn(self, s, a, r, s_):\n",
    " self.check_state_exist(s_)\n",
    " q_predict = self.q_table.ix[s, a]\n",
    " if s_ != 'terminal':\n",
    " q_target = r + self.gamma * self.q_table.ix[s_, :].max() # next \n",
    "state is not terminal\n",
    " else:\n",
    " q_target = r # next state is terminal\n",
    " self.q_table.ix[s, a] += self.lr * (q_target - q_predict) # update"
   ]
  },
  {
   "cell_type": "code",
   "execution_count": null,
   "id": "23da2fab",
   "metadata": {},
   "outputs": [],
   "source": [
    "# on-policy\n",
    "class SarsaTable(RL):\n",
    " def __init__(self, actions, learning_rate=0.01, reward_decay=0.9, e_\n",
    "greedy=0.9):\n",
    " super(SarsaTable, self).__init__(actions, learning_rate, reward_\n",
    "decay, e_greedy)\n",
    "\n",
    "def learn(self, s, a, r, s_, a_):\n",
    " self.check_state_exist(s_)\n",
    " q_predict = self.q_table.ix[s, a]\n",
    " if s_ != 'terminal':\n",
    " q_target = r + self.gamma * self.q_table.ix[s_, a_] # next \n",
    "state is not terminal\n",
    " else:\n",
    " q_target = r # next state is terminal\n",
    " self.q_table.ix[s, a] += self.lr * (q_target - q_predict) # update"
   ]
  },
  {
   "cell_type": "code",
   "execution_count": null,
   "id": "2be98461",
   "metadata": {},
   "outputs": [],
   "source": [
    "from maze_env import Maze\n",
    "from RL_brain import SarsaTable\n",
    "\n",
    "def update():\n",
    " for episode in range(100):\n",
    " # initial observation\n",
    " observation = env.reset()\n",
    " # RL choose action based on observation\n",
    " action = RL.choose_action(str(observation))\n",
    " while True:\n",
    " # fresh env\n",
    " env.render()\n",
    " # RL take action and get next observation and reward\n",
    " observation_, reward, done = env.step(action)\n",
    " # RL choose action based on next observation\n",
    " action_ = RL.choose_action(str(observation_))\n",
    " # RL learn from this transition (s, a, r, s, a) ==> Sarsa\n",
    " RL.learn(str(observation), action, reward, str(observation_), \n",
    "action_)\n",
    " # swap observation and action\n",
    " observation = observation_\n",
    " action = action_\n",
    " # break while loop when end of this episode\n",
    " if done:\n",
    " break\n",
    " # end of game\n",
    " print('game over')\n",
    " env.destroy()"
   ]
  },
  {
   "cell_type": "code",
   "execution_count": null,
   "id": "3b5cf0ae",
   "metadata": {},
   "outputs": [],
   "source": [
    "if __name__ == \"__main__\":\n",
    " env = Maze()\n",
    " RL = SarsaTable(actions=list(range(env.n_actions)))\n",
    " env.after(100, update)\n",
    " env.mainloop()\n"
   ]
  }
 ],
 "metadata": {
  "kernelspec": {
   "display_name": "Python 3 (ipykernel)",
   "language": "python",
   "name": "python3"
  },
  "language_info": {
   "codemirror_mode": {
    "name": "ipython",
    "version": 3
   },
   "file_extension": ".py",
   "mimetype": "text/x-python",
   "name": "python",
   "nbconvert_exporter": "python",
   "pygments_lexer": "ipython3",
   "version": "3.9.7"
  }
 },
 "nbformat": 4,
 "nbformat_minor": 5
}
