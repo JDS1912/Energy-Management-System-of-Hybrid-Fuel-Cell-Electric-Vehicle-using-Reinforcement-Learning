{
 "cells": [
  {
   "cell_type": "code",
   "execution_count": null,
   "id": "a08d7714",
   "metadata": {},
   "outputs": [],
   "source": [
    "def build_q_table(n_states, actions):\n",
    " table = pd.DataFrame(\n",
    " np.zeros((n_states, len(actions))), # q_table initial values\n",
    " columns=actions, # actions's name\n",
    " )\n",
    " # print(table) # show table\n",
    " return table"
   ]
  },
  {
   "cell_type": "code",
   "execution_count": null,
   "id": "93da649f",
   "metadata": {},
   "outputs": [],
   "source": [
    "def choose_action(state, q_table):\n",
    " # This is how to choose an action\n",
    " state_actions = q_table.iloc[state, :]\n",
    " if (np.random.uniform() > EPSILON) or (state_actions.all() == 0): # act \n",
    "non-greedy or state-action have no value\n",
    " action_name = np.random.choice(ACTIONS)\n",
    " else: # act greedy\n",
    " action_name = state_actions.argmax()\n",
    " return action_name"
   ]
  },
  {
   "cell_type": "code",
   "execution_count": null,
   "id": "35b389a2",
   "metadata": {},
   "outputs": [],
   "source": [
    "def get_env_feedback(S, A):\n",
    " # This is how the agent will interact with the environment\n",
    " if A == 'right': # move right\n",
    " if S == N_STATES - 2: # terminate\n",
    " S_ = 'terminal'\n",
    " R = 1\n",
    " else:\n",
    " S_ = S + 1\n",
    " R = 0\n",
    " else: # move left\n",
    " R = 0\n",
    " if S == 0:\n",
    " S_ = S # reach the wall\n",
    " else:\n",
    " S_ = S - 1\n",
    " return S_, R"
   ]
  },
  {
   "cell_type": "code",
   "execution_count": null,
   "id": "067960f1",
   "metadata": {},
   "outputs": [],
   "source": [
    "def update_env(S, episode, step_counter):\n",
    " # This is how the environment be updated\n",
    " env_list = ['-']*(N_STATES-1) + ['T'] # '---------T' our environment\n",
    " if S == 'terminal':\n",
    " interaction = 'Episode %s: total_steps = %s' % (episode+1, step_\n",
    "counter)\n",
    "print('\\r{}'.format(interaction), end='')\n",
    " time.sleep(2)\n",
    " print('\\r ', end='')\n",
    " else:\n",
    " env_list[S] = 'o'\n",
    " interaction = ''.join(env_list)\n",
    " print('\\r{}'.format(interaction), end='')\n",
    " time.sleep(FRESH_TIME)"
   ]
  },
  {
   "cell_type": "code",
   "execution_count": null,
   "id": "e2f21acd",
   "metadata": {},
   "outputs": [],
   "source": [
    "def rl():\n",
    " # main part of RL loop\n",
    " q_table = build_q_table(N_STATES, ACTIONS)\n",
    " for episode in range(MAX_EPISODES):\n",
    " step_counter = 0\n",
    " S = 0\n",
    " is_terminated = False\n",
    " update_env(S, episode, step_counter)\n",
    " while not is_terminated:\n",
    " A = choose_action(S, q_table)\n",
    " S_, R = get_env_feedback(S, A) # take action & get next state \n",
    "and reward\n",
    " q_predict = q_table.ix[S, A]\n",
    " if S_ != 'terminal':\n",
    " q_target = R + GAMMA * q_table.iloc[S_, :].max() # next \n",
    "state is not terminal\n",
    " else:\n",
    " q_target = R # next state is terminal\n",
    " is_terminated = True # terminate this episode\n",
    " q_table.ix[S, A] += ALPHA * (q_target - q_predict) # update\n",
    " S = S_ # move to next state\n",
    " update_env(S, episode, step_counter+1)\n",
    " step_counter += 1\n",
    " return q_table"
   ]
  },
  {
   "cell_type": "code",
   "execution_count": null,
   "id": "239b63f7",
   "metadata": {},
   "outputs": [],
   "source": [
    "if __name__ == \"__main__\":\n",
    " q_table = rl()\n",
    " print('\\r\\nQ-table:\\n')\n",
    " print(q_table)\n"
   ]
  }
 ],
 "metadata": {
  "kernelspec": {
   "display_name": "Python 3 (ipykernel)",
   "language": "python",
   "name": "python3"
  },
  "language_info": {
   "codemirror_mode": {
    "name": "ipython",
    "version": 3
   },
   "file_extension": ".py",
   "mimetype": "text/x-python",
   "name": "python",
   "nbconvert_exporter": "python",
   "pygments_lexer": "ipython3",
   "version": "3.9.7"
  }
 },
 "nbformat": 4,
 "nbformat_minor": 5
}
